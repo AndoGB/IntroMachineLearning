{
  "cells": [
    {
      "cell_type": "markdown",
      "metadata": {
        "id": "mNdoGOF11om2"
      },
      "source": [
        "# Taller de Regresión Lineal Orientado al Negocio\n",
        "\n",
        "Este taller se centra en **cómo** un negocio (por ejemplo, un e-commerce) puede **interpretar** y **aprovechar** los resultados de la Regresión Lineal para **tomar decisiones**.\n",
        "\n",
        "## Contexto de Negocio\n",
        "Imagina que eres el/la **gerente de marketing** de una tienda en línea. Tienes un conjunto de datos con el comportamiento de los clientes y la **cantidad anual** que han gastado (`Yearly Amount Spent`). Tu objetivo es:\n",
        "1. **Identificar** qué factores (tiempo en la app, duración de la sesión, etc.) influyen más en el gasto anual.\n",
        "2. **Predecir** el gasto anual futuro de los clientes.\n",
        "3. Traducir estos hallazgos en **acciones concretas** que aumenten el gasto de los clientes."
      ],
      "id": "mNdoGOF11om2"
    },
    {
      "cell_type": "markdown",
      "metadata": {
        "id": "GTQyGek31om5"
      },
      "source": [
        "## Datos Disponibles\n",
        "Se te proporciona un dataset con las columnas:\n",
        "- **Email**\n",
        "- **Address**\n",
        "- **Avatar**\n",
        "- **Avg. Session Length** (Promedio de duración de la sesión)\n",
        "- **Time on App** (Tiempo en la App)\n",
        "- **Time on Website** (Tiempo en el Sitio Web)\n",
        "- **Length of Membership** (Antigüedad de membresía, en años)\n",
        "- **Yearly Amount Spent** (Cantidad gastada anualmente)\n",
        "\n",
        "Tu variable objetivo para predecir es: **Yearly Amount Spent**."
      ],
      "id": "GTQyGek31om5"
    },
    {
      "cell_type": "markdown",
      "metadata": {
        "id": "UQtQAT-y1om6"
      },
      "source": [
        "## 1. Carga y Exploración de Datos\n",
        "\n",
        "### Tarea 1.1: Cargar los datos\n",
        "1. Crea un DataFrame (por ejemplo, `df`) leyendo el archivo CSV o introduciendo manualmente la tabla que se te proporcionó.\n",
        "2. Muestra las primeras 5 filas (`df.head()`), la forma (`df.shape`) y los tipos de datos (`df.info()`).\n",
        "\n",
        "**Pregunta de enfoque de negocio:**\n",
        "- ¿Qué **insights** iniciales obtienes con solo ver las variables? ¿Cómo podría eso impactar tus **estrategias de marketing**?"
      ],
      "id": "UQtQAT-y1om6"
    },
    {
      "cell_type": "markdown",
      "source": [],
      "metadata": {
        "id": "FTj_zqB9cJZa"
      },
      "id": "FTj_zqB9cJZa"
    },
    {
      "cell_type": "markdown",
      "source": [
        "## R:// Se puede intuir que  la duracion de sesion, tiempo en la app o website y la duracion de la membresia pueden llegar a influir en el nivel de gasto de los clientes"
      ],
      "metadata": {
        "id": "5YSqIwgjb13a"
      },
      "id": "5YSqIwgjb13a"
    },
    {
      "cell_type": "code",
      "source": [
        "!wget https://github.com/javierherrera1996/lecture_analytics/raw/main/Ecommerce%20_Customers.csv"
      ],
      "metadata": {
        "colab": {
          "base_uri": "https://localhost:8080/"
        },
        "id": "vclb1zxo1vbl",
        "outputId": "e005048a-00c8-4dbd-e132-d2eddfd87999"
      },
      "id": "vclb1zxo1vbl",
      "execution_count": 36,
      "outputs": [
        {
          "output_type": "stream",
          "name": "stdout",
          "text": [
            "--2025-03-05 22:33:26--  https://github.com/javierherrera1996/lecture_analytics/raw/main/Ecommerce%20_Customers.csv\n",
            "Resolving github.com (github.com)... 20.27.177.113\n",
            "Connecting to github.com (github.com)|20.27.177.113|:443... connected.\n",
            "HTTP request sent, awaiting response... 302 Found\n",
            "Location: https://raw.githubusercontent.com/javierherrera1996/lecture_analytics/main/Ecommerce%20_Customers.csv [following]\n",
            "--2025-03-05 22:33:26--  https://raw.githubusercontent.com/javierherrera1996/lecture_analytics/main/Ecommerce%20_Customers.csv\n",
            "Resolving raw.githubusercontent.com (raw.githubusercontent.com)... 185.199.110.133, 185.199.109.133, 185.199.111.133, ...\n",
            "Connecting to raw.githubusercontent.com (raw.githubusercontent.com)|185.199.110.133|:443... connected.\n",
            "HTTP request sent, awaiting response... 200 OK\n",
            "Length: 87360 (85K) [text/plain]\n",
            "Saving to: ‘Ecommerce _Customers.csv.1’\n",
            "\n",
            "Ecommerce _Customer 100%[===================>]  85.31K  --.-KB/s    in 0.09s   \n",
            "\n",
            "2025-03-05 22:33:27 (973 KB/s) - ‘Ecommerce _Customers.csv.1’ saved [87360/87360]\n",
            "\n"
          ]
        }
      ]
    },
    {
      "cell_type": "code",
      "metadata": {
        "id": "iQIGI3ws1om6"
      },
      "source": [
        "# EJEMPLO de código:\n",
        "import pandas as pd\n",
        "import numpy as np\n",
        "# Supongamos que has guardado tu dataset en un archivo 'data.csv'\n",
        "df = pd.read_csv('Ecommerce _Customers.csv')\n",
        "df.head()\n",
        "from sklearn.linear_model import LinearRegression\n",
        "from sklearn.model_selection import train_test_split\n",
        "from sklearn.metrics import mean_squared_error, r2_score\n",
        "\n"
      ],
      "execution_count": 37,
      "outputs": [],
      "id": "iQIGI3ws1om6"
    },
    {
      "cell_type": "code",
      "source": [
        "df.head()\n"
      ],
      "metadata": {
        "colab": {
          "base_uri": "https://localhost:8080/",
          "height": 206
        },
        "id": "j2a4CHAjcdBC",
        "outputId": "5fb937b1-3717-497b-cc41-c4a40484dc96"
      },
      "id": "j2a4CHAjcdBC",
      "execution_count": 39,
      "outputs": [
        {
          "output_type": "execute_result",
          "data": {
            "text/plain": [
              "                           Email  \\\n",
              "0      mstephenson@fernandez.com   \n",
              "1              hduke@hotmail.com   \n",
              "2               pallen@yahoo.com   \n",
              "3        riverarebecca@gmail.com   \n",
              "4  mstephens@davidson-herman.com   \n",
              "\n",
              "                                             Address            Avatar  \\\n",
              "0       835 Frank Tunnel\\nWrightmouth, MI 82180-9605            Violet   \n",
              "1     4547 Archer Common\\nDiazchester, CA 06566-8576         DarkGreen   \n",
              "2  24645 Valerie Unions Suite 582\\nCobbborough, D...            Bisque   \n",
              "3   1414 David Throughway\\nPort Jason, OH 22070-1220       SaddleBrown   \n",
              "4  14023 Rodriguez Passage\\nPort Jacobville, PR 3...  MediumAquaMarine   \n",
              "\n",
              "   Avg. Session Length  Time on App  Time on Website  Length of Membership  \\\n",
              "0            34.497268    12.655651        39.577668              4.082621   \n",
              "1            31.926272    11.109461        37.268959              2.664034   \n",
              "2            33.000915    11.330278        37.110597              4.104543   \n",
              "3            34.305557    13.717514        36.721283              3.120179   \n",
              "4            33.330673    12.795189        37.536653              4.446308   \n",
              "\n",
              "   Yearly Amount Spent  \n",
              "0           587.951054  \n",
              "1           392.204933  \n",
              "2           487.547505  \n",
              "3           581.852344  \n",
              "4           599.406092  "
            ],
            "text/html": [
              "\n",
              "  <div id=\"df-06b35d23-4d92-41b7-9273-b370d8181f9a\" class=\"colab-df-container\">\n",
              "    <div>\n",
              "<style scoped>\n",
              "    .dataframe tbody tr th:only-of-type {\n",
              "        vertical-align: middle;\n",
              "    }\n",
              "\n",
              "    .dataframe tbody tr th {\n",
              "        vertical-align: top;\n",
              "    }\n",
              "\n",
              "    .dataframe thead th {\n",
              "        text-align: right;\n",
              "    }\n",
              "</style>\n",
              "<table border=\"1\" class=\"dataframe\">\n",
              "  <thead>\n",
              "    <tr style=\"text-align: right;\">\n",
              "      <th></th>\n",
              "      <th>Email</th>\n",
              "      <th>Address</th>\n",
              "      <th>Avatar</th>\n",
              "      <th>Avg. Session Length</th>\n",
              "      <th>Time on App</th>\n",
              "      <th>Time on Website</th>\n",
              "      <th>Length of Membership</th>\n",
              "      <th>Yearly Amount Spent</th>\n",
              "    </tr>\n",
              "  </thead>\n",
              "  <tbody>\n",
              "    <tr>\n",
              "      <th>0</th>\n",
              "      <td>mstephenson@fernandez.com</td>\n",
              "      <td>835 Frank Tunnel\\nWrightmouth, MI 82180-9605</td>\n",
              "      <td>Violet</td>\n",
              "      <td>34.497268</td>\n",
              "      <td>12.655651</td>\n",
              "      <td>39.577668</td>\n",
              "      <td>4.082621</td>\n",
              "      <td>587.951054</td>\n",
              "    </tr>\n",
              "    <tr>\n",
              "      <th>1</th>\n",
              "      <td>hduke@hotmail.com</td>\n",
              "      <td>4547 Archer Common\\nDiazchester, CA 06566-8576</td>\n",
              "      <td>DarkGreen</td>\n",
              "      <td>31.926272</td>\n",
              "      <td>11.109461</td>\n",
              "      <td>37.268959</td>\n",
              "      <td>2.664034</td>\n",
              "      <td>392.204933</td>\n",
              "    </tr>\n",
              "    <tr>\n",
              "      <th>2</th>\n",
              "      <td>pallen@yahoo.com</td>\n",
              "      <td>24645 Valerie Unions Suite 582\\nCobbborough, D...</td>\n",
              "      <td>Bisque</td>\n",
              "      <td>33.000915</td>\n",
              "      <td>11.330278</td>\n",
              "      <td>37.110597</td>\n",
              "      <td>4.104543</td>\n",
              "      <td>487.547505</td>\n",
              "    </tr>\n",
              "    <tr>\n",
              "      <th>3</th>\n",
              "      <td>riverarebecca@gmail.com</td>\n",
              "      <td>1414 David Throughway\\nPort Jason, OH 22070-1220</td>\n",
              "      <td>SaddleBrown</td>\n",
              "      <td>34.305557</td>\n",
              "      <td>13.717514</td>\n",
              "      <td>36.721283</td>\n",
              "      <td>3.120179</td>\n",
              "      <td>581.852344</td>\n",
              "    </tr>\n",
              "    <tr>\n",
              "      <th>4</th>\n",
              "      <td>mstephens@davidson-herman.com</td>\n",
              "      <td>14023 Rodriguez Passage\\nPort Jacobville, PR 3...</td>\n",
              "      <td>MediumAquaMarine</td>\n",
              "      <td>33.330673</td>\n",
              "      <td>12.795189</td>\n",
              "      <td>37.536653</td>\n",
              "      <td>4.446308</td>\n",
              "      <td>599.406092</td>\n",
              "    </tr>\n",
              "  </tbody>\n",
              "</table>\n",
              "</div>\n",
              "    <div class=\"colab-df-buttons\">\n",
              "\n",
              "  <div class=\"colab-df-container\">\n",
              "    <button class=\"colab-df-convert\" onclick=\"convertToInteractive('df-06b35d23-4d92-41b7-9273-b370d8181f9a')\"\n",
              "            title=\"Convert this dataframe to an interactive table.\"\n",
              "            style=\"display:none;\">\n",
              "\n",
              "  <svg xmlns=\"http://www.w3.org/2000/svg\" height=\"24px\" viewBox=\"0 -960 960 960\">\n",
              "    <path d=\"M120-120v-720h720v720H120Zm60-500h600v-160H180v160Zm220 220h160v-160H400v160Zm0 220h160v-160H400v160ZM180-400h160v-160H180v160Zm440 0h160v-160H620v160ZM180-180h160v-160H180v160Zm440 0h160v-160H620v160Z\"/>\n",
              "  </svg>\n",
              "    </button>\n",
              "\n",
              "  <style>\n",
              "    .colab-df-container {\n",
              "      display:flex;\n",
              "      gap: 12px;\n",
              "    }\n",
              "\n",
              "    .colab-df-convert {\n",
              "      background-color: #E8F0FE;\n",
              "      border: none;\n",
              "      border-radius: 50%;\n",
              "      cursor: pointer;\n",
              "      display: none;\n",
              "      fill: #1967D2;\n",
              "      height: 32px;\n",
              "      padding: 0 0 0 0;\n",
              "      width: 32px;\n",
              "    }\n",
              "\n",
              "    .colab-df-convert:hover {\n",
              "      background-color: #E2EBFA;\n",
              "      box-shadow: 0px 1px 2px rgba(60, 64, 67, 0.3), 0px 1px 3px 1px rgba(60, 64, 67, 0.15);\n",
              "      fill: #174EA6;\n",
              "    }\n",
              "\n",
              "    .colab-df-buttons div {\n",
              "      margin-bottom: 4px;\n",
              "    }\n",
              "\n",
              "    [theme=dark] .colab-df-convert {\n",
              "      background-color: #3B4455;\n",
              "      fill: #D2E3FC;\n",
              "    }\n",
              "\n",
              "    [theme=dark] .colab-df-convert:hover {\n",
              "      background-color: #434B5C;\n",
              "      box-shadow: 0px 1px 3px 1px rgba(0, 0, 0, 0.15);\n",
              "      filter: drop-shadow(0px 1px 2px rgba(0, 0, 0, 0.3));\n",
              "      fill: #FFFFFF;\n",
              "    }\n",
              "  </style>\n",
              "\n",
              "    <script>\n",
              "      const buttonEl =\n",
              "        document.querySelector('#df-06b35d23-4d92-41b7-9273-b370d8181f9a button.colab-df-convert');\n",
              "      buttonEl.style.display =\n",
              "        google.colab.kernel.accessAllowed ? 'block' : 'none';\n",
              "\n",
              "      async function convertToInteractive(key) {\n",
              "        const element = document.querySelector('#df-06b35d23-4d92-41b7-9273-b370d8181f9a');\n",
              "        const dataTable =\n",
              "          await google.colab.kernel.invokeFunction('convertToInteractive',\n",
              "                                                    [key], {});\n",
              "        if (!dataTable) return;\n",
              "\n",
              "        const docLinkHtml = 'Like what you see? Visit the ' +\n",
              "          '<a target=\"_blank\" href=https://colab.research.google.com/notebooks/data_table.ipynb>data table notebook</a>'\n",
              "          + ' to learn more about interactive tables.';\n",
              "        element.innerHTML = '';\n",
              "        dataTable['output_type'] = 'display_data';\n",
              "        await google.colab.output.renderOutput(dataTable, element);\n",
              "        const docLink = document.createElement('div');\n",
              "        docLink.innerHTML = docLinkHtml;\n",
              "        element.appendChild(docLink);\n",
              "      }\n",
              "    </script>\n",
              "  </div>\n",
              "\n",
              "\n",
              "<div id=\"df-b2b13a17-fd42-4df1-8a2a-73383dd593ba\">\n",
              "  <button class=\"colab-df-quickchart\" onclick=\"quickchart('df-b2b13a17-fd42-4df1-8a2a-73383dd593ba')\"\n",
              "            title=\"Suggest charts\"\n",
              "            style=\"display:none;\">\n",
              "\n",
              "<svg xmlns=\"http://www.w3.org/2000/svg\" height=\"24px\"viewBox=\"0 0 24 24\"\n",
              "     width=\"24px\">\n",
              "    <g>\n",
              "        <path d=\"M19 3H5c-1.1 0-2 .9-2 2v14c0 1.1.9 2 2 2h14c1.1 0 2-.9 2-2V5c0-1.1-.9-2-2-2zM9 17H7v-7h2v7zm4 0h-2V7h2v10zm4 0h-2v-4h2v4z\"/>\n",
              "    </g>\n",
              "</svg>\n",
              "  </button>\n",
              "\n",
              "<style>\n",
              "  .colab-df-quickchart {\n",
              "      --bg-color: #E8F0FE;\n",
              "      --fill-color: #1967D2;\n",
              "      --hover-bg-color: #E2EBFA;\n",
              "      --hover-fill-color: #174EA6;\n",
              "      --disabled-fill-color: #AAA;\n",
              "      --disabled-bg-color: #DDD;\n",
              "  }\n",
              "\n",
              "  [theme=dark] .colab-df-quickchart {\n",
              "      --bg-color: #3B4455;\n",
              "      --fill-color: #D2E3FC;\n",
              "      --hover-bg-color: #434B5C;\n",
              "      --hover-fill-color: #FFFFFF;\n",
              "      --disabled-bg-color: #3B4455;\n",
              "      --disabled-fill-color: #666;\n",
              "  }\n",
              "\n",
              "  .colab-df-quickchart {\n",
              "    background-color: var(--bg-color);\n",
              "    border: none;\n",
              "    border-radius: 50%;\n",
              "    cursor: pointer;\n",
              "    display: none;\n",
              "    fill: var(--fill-color);\n",
              "    height: 32px;\n",
              "    padding: 0;\n",
              "    width: 32px;\n",
              "  }\n",
              "\n",
              "  .colab-df-quickchart:hover {\n",
              "    background-color: var(--hover-bg-color);\n",
              "    box-shadow: 0 1px 2px rgba(60, 64, 67, 0.3), 0 1px 3px 1px rgba(60, 64, 67, 0.15);\n",
              "    fill: var(--button-hover-fill-color);\n",
              "  }\n",
              "\n",
              "  .colab-df-quickchart-complete:disabled,\n",
              "  .colab-df-quickchart-complete:disabled:hover {\n",
              "    background-color: var(--disabled-bg-color);\n",
              "    fill: var(--disabled-fill-color);\n",
              "    box-shadow: none;\n",
              "  }\n",
              "\n",
              "  .colab-df-spinner {\n",
              "    border: 2px solid var(--fill-color);\n",
              "    border-color: transparent;\n",
              "    border-bottom-color: var(--fill-color);\n",
              "    animation:\n",
              "      spin 1s steps(1) infinite;\n",
              "  }\n",
              "\n",
              "  @keyframes spin {\n",
              "    0% {\n",
              "      border-color: transparent;\n",
              "      border-bottom-color: var(--fill-color);\n",
              "      border-left-color: var(--fill-color);\n",
              "    }\n",
              "    20% {\n",
              "      border-color: transparent;\n",
              "      border-left-color: var(--fill-color);\n",
              "      border-top-color: var(--fill-color);\n",
              "    }\n",
              "    30% {\n",
              "      border-color: transparent;\n",
              "      border-left-color: var(--fill-color);\n",
              "      border-top-color: var(--fill-color);\n",
              "      border-right-color: var(--fill-color);\n",
              "    }\n",
              "    40% {\n",
              "      border-color: transparent;\n",
              "      border-right-color: var(--fill-color);\n",
              "      border-top-color: var(--fill-color);\n",
              "    }\n",
              "    60% {\n",
              "      border-color: transparent;\n",
              "      border-right-color: var(--fill-color);\n",
              "    }\n",
              "    80% {\n",
              "      border-color: transparent;\n",
              "      border-right-color: var(--fill-color);\n",
              "      border-bottom-color: var(--fill-color);\n",
              "    }\n",
              "    90% {\n",
              "      border-color: transparent;\n",
              "      border-bottom-color: var(--fill-color);\n",
              "    }\n",
              "  }\n",
              "</style>\n",
              "\n",
              "  <script>\n",
              "    async function quickchart(key) {\n",
              "      const quickchartButtonEl =\n",
              "        document.querySelector('#' + key + ' button');\n",
              "      quickchartButtonEl.disabled = true;  // To prevent multiple clicks.\n",
              "      quickchartButtonEl.classList.add('colab-df-spinner');\n",
              "      try {\n",
              "        const charts = await google.colab.kernel.invokeFunction(\n",
              "            'suggestCharts', [key], {});\n",
              "      } catch (error) {\n",
              "        console.error('Error during call to suggestCharts:', error);\n",
              "      }\n",
              "      quickchartButtonEl.classList.remove('colab-df-spinner');\n",
              "      quickchartButtonEl.classList.add('colab-df-quickchart-complete');\n",
              "    }\n",
              "    (() => {\n",
              "      let quickchartButtonEl =\n",
              "        document.querySelector('#df-b2b13a17-fd42-4df1-8a2a-73383dd593ba button');\n",
              "      quickchartButtonEl.style.display =\n",
              "        google.colab.kernel.accessAllowed ? 'block' : 'none';\n",
              "    })();\n",
              "  </script>\n",
              "</div>\n",
              "\n",
              "    </div>\n",
              "  </div>\n"
            ],
            "application/vnd.google.colaboratory.intrinsic+json": {
              "type": "dataframe",
              "variable_name": "df",
              "summary": "{\n  \"name\": \"df\",\n  \"rows\": 500,\n  \"fields\": [\n    {\n      \"column\": \"Email\",\n      \"properties\": {\n        \"dtype\": \"string\",\n        \"num_unique_values\": 500,\n        \"samples\": [\n          \"lauriewilson@jackson.com\",\n          \"williamsjohnny@ferguson.info\",\n          \"aaron89@gmail.com\"\n        ],\n        \"semantic_type\": \"\",\n        \"description\": \"\"\n      }\n    },\n    {\n      \"column\": \"Address\",\n      \"properties\": {\n        \"dtype\": \"string\",\n        \"num_unique_values\": 500,\n        \"samples\": [\n          \"389 Joshua Stravenue Apt. 983\\nMartinezland, MN 29049\",\n          \"51920 Kent Junctions Apt. 352\\nWalkerport, NY 11257-6647\",\n          \"0128 Sampson Loop Suite 943\\nHoffmanton, MO 02122\"\n        ],\n        \"semantic_type\": \"\",\n        \"description\": \"\"\n      }\n    },\n    {\n      \"column\": \"Avatar\",\n      \"properties\": {\n        \"dtype\": \"category\",\n        \"num_unique_values\": 138,\n        \"samples\": [\n          \"Azure\",\n          \"White\",\n          \"DarkBlue\"\n        ],\n        \"semantic_type\": \"\",\n        \"description\": \"\"\n      }\n    },\n    {\n      \"column\": \"Avg. Session Length\",\n      \"properties\": {\n        \"dtype\": \"number\",\n        \"std\": 0.9925631110845354,\n        \"min\": 29.532428967057943,\n        \"max\": 36.13966248879052,\n        \"num_unique_values\": 500,\n        \"samples\": [\n          32.077590044329135,\n          32.80869759268502,\n          31.447446494127817\n        ],\n        \"semantic_type\": \"\",\n        \"description\": \"\"\n      }\n    },\n    {\n      \"column\": \"Time on App\",\n      \"properties\": {\n        \"dtype\": \"number\",\n        \"std\": 0.9942156084725423,\n        \"min\": 8.508152176032603,\n        \"max\": 15.126994288792469,\n        \"num_unique_values\": 500,\n        \"samples\": [\n          10.347876945661575,\n          12.817113090284248,\n          10.101632204781014\n        ],\n        \"semantic_type\": \"\",\n        \"description\": \"\"\n      }\n    },\n    {\n      \"column\": \"Time on Website\",\n      \"properties\": {\n        \"dtype\": \"number\",\n        \"std\": 1.0104889067564018,\n        \"min\": 33.91384724758464,\n        \"max\": 40.005181638101895,\n        \"num_unique_values\": 500,\n        \"samples\": [\n          39.04515569638811,\n          37.03153921676629,\n          38.04345265084127\n        ],\n        \"semantic_type\": \"\",\n        \"description\": \"\"\n      }\n    },\n    {\n      \"column\": \"Length of Membership\",\n      \"properties\": {\n        \"dtype\": \"number\",\n        \"std\": 0.9992775024112581,\n        \"min\": 0.2699010899842742,\n        \"max\": 6.922689335035807,\n        \"num_unique_values\": 500,\n        \"samples\": [\n          3.43455972254092,\n          3.8515788003584657,\n          4.238296188412728\n        ],\n        \"semantic_type\": \"\",\n        \"description\": \"\"\n      }\n    },\n    {\n      \"column\": \"Yearly Amount Spent\",\n      \"properties\": {\n        \"dtype\": \"number\",\n        \"std\": 79.31478154970677,\n        \"min\": 256.67058229005585,\n        \"max\": 765.5184619388372,\n        \"num_unique_values\": 500,\n        \"samples\": [\n          401.0331352191061,\n          534.7771880994133,\n          418.602742095224\n        ],\n        \"semantic_type\": \"\",\n        \"description\": \"\"\n      }\n    }\n  ]\n}"
            }
          },
          "metadata": {},
          "execution_count": 39
        }
      ]
    },
    {
      "cell_type": "code",
      "source": [
        "df.shape"
      ],
      "metadata": {
        "colab": {
          "base_uri": "https://localhost:8080/"
        },
        "id": "lWztc6RScmJy",
        "outputId": "d2a23e46-1382-482e-ff72-d8de5e11186a"
      },
      "id": "lWztc6RScmJy",
      "execution_count": 42,
      "outputs": [
        {
          "output_type": "execute_result",
          "data": {
            "text/plain": [
              "(500, 8)"
            ]
          },
          "metadata": {},
          "execution_count": 42
        }
      ]
    },
    {
      "cell_type": "code",
      "source": [
        "df.info()"
      ],
      "metadata": {
        "colab": {
          "base_uri": "https://localhost:8080/"
        },
        "id": "DYlN1TJlcsfi",
        "outputId": "e663b30f-9d34-4287-b876-9bbdf6ad373e"
      },
      "id": "DYlN1TJlcsfi",
      "execution_count": 43,
      "outputs": [
        {
          "output_type": "stream",
          "name": "stdout",
          "text": [
            "<class 'pandas.core.frame.DataFrame'>\n",
            "RangeIndex: 500 entries, 0 to 499\n",
            "Data columns (total 8 columns):\n",
            " #   Column                Non-Null Count  Dtype  \n",
            "---  ------                --------------  -----  \n",
            " 0   Email                 500 non-null    object \n",
            " 1   Address               500 non-null    object \n",
            " 2   Avatar                500 non-null    object \n",
            " 3   Avg. Session Length   500 non-null    float64\n",
            " 4   Time on App           500 non-null    float64\n",
            " 5   Time on Website       500 non-null    float64\n",
            " 6   Length of Membership  500 non-null    float64\n",
            " 7   Yearly Amount Spent   500 non-null    float64\n",
            "dtypes: float64(5), object(3)\n",
            "memory usage: 31.4+ KB\n"
          ]
        }
      ]
    },
    {
      "cell_type": "markdown",
      "metadata": {
        "id": "PYEbCFV21om7"
      },
      "source": [
        "### Tarea 1.2: Análisis Exploratorio (EDA) Básico\n",
        "1. Ejecuta `df.describe()` para revisar las estadísticas descriptivas de las variables numéricas.\n",
        "2. Realiza uno o dos **boxplots** o **histogramas** para visualizar la distribución de:\n",
        "   - **Avg. Session Length**\n",
        "   - **Time on App**\n",
        "   - **Time on Website**\n",
        "   - **Length of Membership**\n",
        "   - **Yearly Amount Spent**\n",
        "\n",
        "**Preguntas de negocio:**\n",
        "1. Si detectas que, por ejemplo, la gente con **mayor** `Length of Membership` gasta más, ¿qué **estrategias** implementarías para retener y \"graduar\" a los nuevos clientes a miembros más \"antiguos\"?\n",
        "2. Si notas que el **Time on Website** es muy bajo vs. **Time on App**, ¿implica que debas mejorar la experiencia en el sitio web para que la gente pase más tiempo allí?"
      ],
      "id": "PYEbCFV21om7"
    },
    {
      "cell_type": "code",
      "metadata": {
        "id": "vRf-CNWA1om8"
      },
      "source": [],
      "execution_count": 37,
      "outputs": [],
      "id": "vRf-CNWA1om8"
    },
    {
      "cell_type": "markdown",
      "metadata": {
        "id": "1PTOZMZf1om9"
      },
      "source": [
        "## 2. Selección de Variables\n",
        "En este dataset, algunas columnas como **Email**, **Address** o **Avatar** no son útiles directamente para el modelo de regresión.\n",
        "\n",
        "### Tarea 2.1: Elegir features\n",
        "- Usarás como variables predictoras (features) las siguientes columnas:\n",
        "  1. **Avg. Session Length**\n",
        "  2. **Time on App**\n",
        "  3. **Time on Website**\n",
        "  4. **Length of Membership**\n",
        "- La columna objetivo (target) será **Yearly Amount Spent**.\n",
        "\n",
        "**Pregunta de negocio**:\n",
        "- ¿Por qué estas columnas tienen sentido para **explicar** el gasto anual? (Piensa en la lógica, \"mientras más tiempo en app, más oportunidades de compra\")."
      ],
      "id": "1PTOZMZf1om9"
    },
    {
      "cell_type": "code",
      "metadata": {
        "id": "L8jyTD2s1om9"
      },
      "source": [
        "X = df[[\"Avg. Session Length\",\"Time on App\",\"Time on Website\",\"Length of Membership\"]]\n",
        "y = df[\"Yearly Amount Spent\"]"
      ],
      "execution_count": null,
      "outputs": [],
      "id": "L8jyTD2s1om9"
    },
    {
      "cell_type": "markdown",
      "source": [
        "# R:// A mayor tiempo de consideracion de compra mayor es la posibilidad de que la venta sea efectiva"
      ],
      "metadata": {
        "id": "P35OuxCxcyT6"
      },
      "id": "P35OuxCxcyT6"
    },
    {
      "cell_type": "markdown",
      "metadata": {
        "id": "SWcJ_WaB1om9"
      },
      "source": [
        "## 3. Dividir el Dataset en Entrenamiento y Prueba\n",
        "Para evaluar la capacidad de nuestro modelo de generalizar, dividiremos los datos en **train (80%)** y **test (20%)**.\n",
        "\n",
        "**Pregunta de negocio**:\n",
        "- ¿Cómo explicarías, en términos empresariales, que \"apartamos\" datos para prueba y no los usamos en el entrenamiento? ¿Qué importancia tiene para \"predecir\" clientes futuros?"
      ],
      "id": "SWcJ_WaB1om9"
    },
    {
      "cell_type": "markdown",
      "source": [
        "## R://Los datos separados para la evalucion del modelo, se usan con el fin de probar que efectivamente sigan el comportamiento del grupo de clientes con el que se entreno"
      ],
      "metadata": {
        "id": "VxixHduwdF_K"
      },
      "id": "VxixHduwdF_K"
    },
    {
      "cell_type": "code",
      "metadata": {
        "id": "mZPWtrD-1om-",
        "colab": {
          "base_uri": "https://localhost:8080/"
        },
        "outputId": "55c9eaf4-5ca7-4de7-92d0-cb5639d5406f"
      },
      "source": [
        "X_train, X_test, y_train, y_test = train_test_split(\n",
        "                                                  X,\n",
        "                                                  y,\n",
        "                                                  test_size=0.2,\n",
        "                                                  random_state=42\n",
        "                                              )\n",
        "\n",
        "print(f\"Entrenamiento: {X_train.shape[0]} muestras\")\n",
        "print(f\"Prueba: {X_test.shape[0]} muestras\")"
      ],
      "execution_count": 21,
      "outputs": [
        {
          "output_type": "stream",
          "name": "stdout",
          "text": [
            "Entrenamiento: 400 muestras\n",
            "Prueba: 100 muestras\n"
          ]
        }
      ],
      "id": "mZPWtrD-1om-"
    },
    {
      "cell_type": "markdown",
      "metadata": {
        "id": "JfzgPyLF1om-"
      },
      "source": [
        "## 4. Entrenar el Modelo de Regresión Lineal\n",
        "1. **Crea** un objeto `LinearRegression()`.\n",
        "2. **Entrena** el modelo con los datos de entrenamiento.\n",
        "3. **Obtén** el intercepto y los coeficientes resultantes.\n",
        "\n",
        "**Pregunta de negocio**:\n",
        "- Si el coeficiente de `Time on App` es grande y positivo, ¿cómo podrías usar esta información para crear **campañas** o **mejoras** en la aplicación que incentiven al usuario a pasar más tiempo allí?"
      ],
      "id": "JfzgPyLF1om-"
    },
    {
      "cell_type": "code",
      "metadata": {
        "id": "IzGBGbLz1om-",
        "colab": {
          "base_uri": "https://localhost:8080/"
        },
        "outputId": "34feffb7-bfcf-4fbb-b145-9456433c8d30"
      },
      "source": [
        "intercept = model.intercept_\n",
        "coef = model.coef_\n",
        "\n",
        "print(f\"Intercept (beta_0): {intercept:.2f}\")\n",
        "print(f\"Coeficiente (beta_1): {coef}\")"
      ],
      "execution_count": 30,
      "outputs": [
        {
          "output_type": "stream",
          "name": "stdout",
          "text": [
            "Intercept (beta_0): -1044.26\n",
            "Coeficiente (beta_1): [25.5962591  38.78534598  0.31038593 61.89682859]\n"
          ]
        }
      ],
      "id": "IzGBGbLz1om-"
    },
    {
      "cell_type": "markdown",
      "source": [
        "## R:// Se pueden agregar diferentes pop ups dinamicos que retrengan la atencion del cliente y sirvan como incentivo a generar ventas por medio de promos, lanzamientos y demas informacion relevante para el consumidor\n",
        "\n"
      ],
      "metadata": {
        "id": "vYSi4dredhaR"
      },
      "id": "vYSi4dredhaR"
    },
    {
      "cell_type": "markdown",
      "metadata": {
        "id": "u1zkBsr11om-"
      },
      "source": [
        "## 5. Evaluación del Modelo\n",
        "1. **Predice** en el conjunto de prueba.\n",
        "2. Calcula las **métricas** MSE, MAE y R² para verificar la calidad de tu modelo. No profundizaremos en residuos, solo en la idea de si el modelo \"le atina\" al gasto anual.\n",
        "\n",
        "**Preguntas de negocio**:\n",
        "1. ¿Qué interpretas si **R²** es cercano a 0.80 o 0.90? ¿El modelo es “bueno” para tus objetivos?\n",
        "2. Si el **MAE** es, por ejemplo, 15 USD, ¿es aceptable ese margen de error para tu negocio?"
      ],
      "id": "u1zkBsr11om-"
    },
    {
      "cell_type": "code",
      "metadata": {
        "id": "Ktf854eT1om_"
      },
      "source": [
        "y_pred_train = model.predict(X_train)\n",
        "y_pred_test = model.predict(X_test)\n",
        "mse_train = mean_squared_error(y_train, y_pred_train)\n",
        "r2_train = r2_score(y_train, y_pred_train)\n",
        "mse_test = mean_squared_error(y_test, y_pred_test)\n",
        "r2_test = r2_score(y_test, y_pred_test)\n",
        "print(\"Conjunto de Entrenamiento:\")\n",
        "print(f\"MSE: {mse_train:.2f}\")\n",
        "print(f\"R^2: {r2_train:.2f}\")\n",
        "print(\"\\nConjunto de Prueba:\")\n",
        "print(f\"MSE: {mse_test:.2f}\")\n",
        "print(f\"R^2: {r2_test:.2f}\")"
      ],
      "execution_count": null,
      "outputs": [],
      "id": "Ktf854eT1om_"
    },
    {
      "cell_type": "markdown",
      "source": [
        "## R// 1. Sugiere que el modelo es bueno para predir el gasto de lo clientes, tomando como base los datos proporcionados; 2. 15USD/cliente es un valor alto considerando el desajuste que esto generaria en la predicciones"
      ],
      "metadata": {
        "id": "xHZMXOk_ecIJ"
      },
      "id": "xHZMXOk_ecIJ"
    },
    {
      "cell_type": "markdown",
      "metadata": {
        "id": "e_YpOryA1om_"
      },
      "source": [
        "## 6. Interpretación y Aplicación Práctica\n",
        "1. **Observa** los coeficientes resultantes: ¿qué variable es la más influyente? ¿Cómo impacta eso en tu estrategia de negocios?\n",
        "2. **Propuestas** de acción:\n",
        "   - Si `Time on App` es el que más incide, podrías **invertir** más en mejoras de la app.\n",
        "   - Si `Length of Membership` está ligado a más gasto, podrías **fidelizar** a los nuevos clientes con promociones.\n",
        "\n",
        "**Preguntas de negocio**:\n",
        "1. ¿Cómo comunicarías estos resultados a un equipo directivo que no maneja detalles estadísticos?\n",
        "2. ¿Qué **acciones concretas** aplicarías para aumentar el gasto anual de los clientes, basándote en los coeficientes del modelo?"
      ],
      "id": "e_YpOryA1om_"
    },
    {
      "cell_type": "code",
      "source": [
        "\n",
        "X_new = np.array([[2.0, 5.0, 7.5, 10.0]])\n",
        "\n",
        "# Predicciones del modelo\n",
        "y_new_pred = model.predict(X_new)\n",
        "\n",
        "print(\"Nuevos valores de X:\", X_new.flatten())\n",
        "print(\"Predicciones de Y:\", y_new_pred.round(2))"
      ],
      "metadata": {
        "colab": {
          "base_uri": "https://localhost:8080/"
        },
        "id": "mOpEgdIfZoIb",
        "outputId": "8b8fe858-4861-4b48-d2c6-1a6ab17d45e1"
      },
      "id": "mOpEgdIfZoIb",
      "execution_count": 35,
      "outputs": [
        {
          "output_type": "stream",
          "name": "stdout",
          "text": [
            "Nuevos valores de X: [ 2.   5.   7.5 10. ]\n",
            "Predicciones de Y: [-177.84]\n"
          ]
        },
        {
          "output_type": "stream",
          "name": "stderr",
          "text": [
            "/usr/local/lib/python3.11/dist-packages/sklearn/utils/validation.py:2739: UserWarning: X does not have valid feature names, but LinearRegression was fitted with feature names\n",
            "  warnings.warn(\n"
          ]
        }
      ]
    },
    {
      "cell_type": "markdown",
      "source": [
        "R:// 1. expresando cual es la preelacion de la inlfuencia de variables y haciendo un estimado de la cantidad de ingresos que le representan a la compañia; 2. frecuencia de compras"
      ],
      "metadata": {
        "id": "22KQqY7qfjdx"
      },
      "id": "22KQqY7qfjdx"
    },
    {
      "cell_type": "markdown",
      "metadata": {
        "id": "ABGSRcoA1om_"
      },
      "source": [
        "## 7. Conclusión: Caso de Negocio Real\n",
        "1. Redacta un breve **informe** o explicación final que responda:\n",
        "   - ¿Qué **variables** explican mejor el gasto anual?\n",
        "   - ¿Qué recomendaciones propones para aumentar el **Yearly Amount Spent**?\n",
        "2. **Limitaciones**: Menciona cualquier aspecto que el modelo no cubra (datos no considerados, linealidad asumida, etc.).\n",
        "\n",
        "Con estos pasos, podrás llevar la **visión estadística** a un **plan de acción** en tu estrategia de negocio."
      ],
      "id": "ABGSRcoA1om_"
    },
    {
      "cell_type": "markdown",
      "source": [
        "R:// Dentro del grupo de variables estudiadas, las de mayor importancia tienen en funcion del gasto del consuidor son la duracion de la membrecia y el tiempo en la app, seguido de la duracion de la sesion y el tiempo en pagina (que casi no influye en el gasto de consumidor),  "
      ],
      "metadata": {
        "id": "wA-ArPvTgavZ"
      },
      "id": "wA-ArPvTgavZ"
    },
    {
      "cell_type": "markdown",
      "metadata": {
        "id": "F5y-ki681om_"
      },
      "source": [
        "# Resumen de las Tareas\n",
        "1. **EDA Rápido**: Cargar y describir el dataset.\n",
        "2. **Selección de Variables**: Explicar por qué se usan las columnas numéricas y se ignoran Email/Address.\n",
        "3. **Entrenamiento**: Ajustar el modelo de Regresión con `Avg. Session Length`, `Time on App`, `Time on Website`, `Length of Membership`.\n",
        "4. **Evaluación**: Observar MSE, MAE, R².\n",
        "5. **Interpretación**: Explicar cómo usaría el negocio estos resultados.\n",
        "\n",
        "## ¡Listo para Analizar!\n",
        "Sigue estos pasos, responde las **preguntas de negocio** y, sobre todo, **conecta** tus hallazgos con **acciones** en el mundo real.\n",
        "\n",
        "> **Nota**: Puedes consultar documentación o herramientas como ChatGPT si lo requieres, pero recuerda que las **respuestas** deben ser **tuyas**, pensando en el contexto de negocio y la lógica detrás de los coeficientes. ¡Éxito!"
      ],
      "id": "F5y-ki681om_"
    }
  ],
  "metadata": {
    "kernelspec": {
      "display_name": "Python 3",
      "language": "python",
      "name": "python3"
    },
    "language_info": {
      "name": "python",
      "version": "3.9"
    },
    "colab": {
      "provenance": []
    }
  },
  "nbformat": 4,
  "nbformat_minor": 5
}